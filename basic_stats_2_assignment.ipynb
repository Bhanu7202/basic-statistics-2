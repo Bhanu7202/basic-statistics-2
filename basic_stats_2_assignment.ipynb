{
 "cells": [
  {
   "cell_type": "code",
   "execution_count": 9,
   "id": "a0682a7e-403e-4209-90bc-a9a1df5ed8f5",
   "metadata": {},
   "outputs": [
    {
     "name": "stdout",
     "output_type": "stream",
     "text": [
      "Sample Mean: 1.2386666666666666\n",
      "Sample Standard Deviation: 0.19316412956959936\n",
      "Critical t-value: 2.976842734370834\n",
      "Margin of Error: 0.14846932822817596\n",
      "99% Confidence Interval: (1.0901973384384906, 1.3871359948948425)\n"
     ]
    }
   ],
   "source": [
    "import numpy as np\n",
    "from scipy.stats import t\n",
    "# Data: Durability of print-heads in millions of characters\n",
    "data = [1.13, 1.55, 1.43, 0.92, 1.25, 1.36, 1.32, 0.85, 1.07, 1.48, 1.20, 1.33, 1.18, 1.22, 1.29]\n",
    "# Sample size\n",
    "n = len(data)\n",
    "# Sample mean and standard deviation\n",
    "mean = np.mean(data)\n",
    "std_dev = np.std(data, ddof=1)  # ddof=1 for sample standard deviation\n",
    "\n",
    "# Degrees of freedom\n",
    "df = n - 1\n",
    "# Critical t-value for 99% confidence interval\n",
    "confidence_level = 0.99\n",
    "t_critical = t.ppf((1 + confidence_level) / 2, df)\n",
    "# Margin of error\n",
    "moe = t_critical * (std_dev / np.sqrt(n))\n",
    "# Confidence interval\n",
    "confidence_interval = (mean - moe, mean + moe)\n",
    "# Print results\n",
    "\n",
    "print(f\"Sample Mean: {mean}\")\n",
    "print(f\"Sample Standard Deviation: {std_dev}\")\n",
    "print(f\"Critical t-value: {t_critical}\")\n",
    "print(f\"Margin of Error: {moe}\")\n",
    "print(f\"99% Confidence Interval: ({confidence_interval[0]}, {confidence_interval[1]})\")"
   ]
  },
  {
   "cell_type": "code",
   "execution_count": 15,
   "id": "b15c8a4a-fe14-48d4-b34a-9078f158143a",
   "metadata": {},
   "outputs": [
    {
     "name": "stdout",
     "output_type": "stream",
     "text": [
      "Sample Mean: 1.2386666666666666\n",
      "Population Standard Deviation: 0.2\n",
      "Critical z-value: 2.5758293035489004\n",
      "Margin of Error: 0.13301525327090588\n",
      "99% Confidence Interval: (1.1056514133957607, 1.3716819199375725)\n"
     ]
    }
   ],
   "source": [
    "import numpy as np\n",
    "from scipy.stats import norm\n",
    "# Data: Durability of print-heads in millions of characters\n",
    "data = [1.13, 1.55, 1.43, 0.92, 1.25, 1.36, 1.32, 0.85, 1.07, 1.48, 1.20, 1.33, 1.18, 1.22, 1.29]\n",
    "\n",
    "# Known population standard deviation\n",
    "population_std_dev = 0.2\n",
    "# Sample size\n",
    "n = len(data)\n",
    "# Sample mean\n",
    "mean = np.mean(data)\n",
    "\n",
    "# Critical z-value for 99% confidence interval\n",
    "confidence_level = 0.99\n",
    "z_critical = norm.ppf((1 + confidence_level) / 2)\n",
    "# Margin of error\n",
    "moe = z_critical * (population_std_dev / np.sqrt(n))\n",
    "# Confidence interval\n",
    "confidence_interval = (mean - moe, mean + moe)\n",
    "\n",
    "# Print results\n",
    "print(f\"Sample Mean: {mean}\")\n",
    "print(f\"Population Standard Deviation: {population_std_dev}\")\n",
    "print(f\"Critical z-value: {z_critical}\")\n",
    "print(f\"Margin of Error: {moe}\")\n",
    "print(f\"99% Confidence Interval: ({confidence_interval[0]}, {confidence_interval[1]})\")\n"
   ]
  },
  {
   "cell_type": "code",
   "execution_count": null,
   "id": "87582329-7b5e-4bc5-88e7-41095d040e88",
   "metadata": {},
   "outputs": [],
   "source": []
  }
 ],
 "metadata": {
  "kernelspec": {
   "display_name": "Python 3 (ipykernel)",
   "language": "python",
   "name": "python3"
  },
  "language_info": {
   "codemirror_mode": {
    "name": "ipython",
    "version": 3
   },
   "file_extension": ".py",
   "mimetype": "text/x-python",
   "name": "python",
   "nbconvert_exporter": "python",
   "pygments_lexer": "ipython3",
   "version": "3.12.4"
  }
 },
 "nbformat": 4,
 "nbformat_minor": 5
}
